{
 "cells": [
  {
   "cell_type": "code",
   "execution_count": 7,
   "metadata": {},
   "outputs": [
    {
     "data": {
      "text/plain": [
       "array([[ 89,   4,  63,  74,  16,  88,  65,  84,  23,  11],\n",
       "       [  8, 100,  71,  13,  44,  19,   2,  20,  58,  32],\n",
       "       [ 30,  60,  10,  65,  71,  56,  30,  62,  33,   9],\n",
       "       [ 27,  22,  41,  72,  10,  28,  77,  72,  32,  13],\n",
       "       [ 90,   2,   4,  94,  76,  57,  29,  97,  44,  29],\n",
       "       [ 79,  65,  89,   0,  93,  25,  93,  67,  94,  39],\n",
       "       [ 82,  16,  52,  93,  45,  88,  69,  86,  17,  31],\n",
       "       [ 21,  18,  53,  50,  25,  21,  30,  71,  79,  91],\n",
       "       [ 73,  75,  21,  88,  81,  92,  16,  30,  83,  31],\n",
       "       [100,  19,  47,  16,  13,  16,  41,  83,  67,  43],\n",
       "       [ 97,  39,  42,  95,  30,  80,  56,  89,   0,  65],\n",
       "       [ 28,  82,  44,  88,  16,  98,  70,   1,  49,  22],\n",
       "       [ 28,  42,  70,  25,  38,  60,  81,   5,  68,  74],\n",
       "       [ 33,  20,  57,  23,  18,  88,  32,  10,  10,  21],\n",
       "       [ 40,  41,  44,  99,  36,  27,  81,  22,   2,  39]])"
      ]
     },
     "execution_count": 7,
     "metadata": {},
     "output_type": "execute_result"
    }
   ],
   "source": [
    "import numpy as np\n",
    "num_of_students = 10\n",
    "num_of_groups = 15\n",
    "marks = np.random.randint(0, 101, size=(num_of_groups, num_of_students))\n",
    "marks"
   ]
  },
  {
   "cell_type": "code",
   "execution_count": 10,
   "metadata": {},
   "outputs": [
    {
     "data": {
      "text/plain": [
       "51"
      ]
     },
     "execution_count": 10,
     "metadata": {},
     "output_type": "execute_result"
    }
   ],
   "source": [
    "marks[marks<30].size"
   ]
  },
  {
   "cell_type": "code",
   "execution_count": 12,
   "metadata": {},
   "outputs": [
    {
     "data": {
      "text/plain": [
       "31"
      ]
     },
     "execution_count": 12,
     "metadata": {},
     "output_type": "execute_result"
    }
   ],
   "source": [
    "marks[(marks>70) & (marks<90)].size"
   ]
  },
  {
   "cell_type": "code",
   "execution_count": 18,
   "metadata": {},
   "outputs": [
    {
     "data": {
      "text/plain": [
       "5"
      ]
     },
     "execution_count": 18,
     "metadata": {},
     "output_type": "execute_result"
    }
   ],
   "source": [
    "marks.mean(axis=1).argmax()"
   ]
  },
  {
   "cell_type": "code",
   "execution_count": 21,
   "metadata": {},
   "outputs": [
    {
     "data": {
      "text/plain": [
       "array([0, 1, 0, 0, 0, 0, 0, 0, 0, 1, 0, 0, 0, 0, 0])"
      ]
     },
     "execution_count": 21,
     "metadata": {},
     "output_type": "execute_result"
    }
   ],
   "source": [
    "(marks==100).sum(axis=1)"
   ]
  },
  {
   "cell_type": "code",
   "execution_count": 23,
   "metadata": {},
   "outputs": [
    {
     "data": {
      "text/plain": [
       "148"
      ]
     },
     "execution_count": 23,
     "metadata": {},
     "output_type": "execute_result"
    }
   ],
   "source": [
    "marks[(marks!=0)].size"
   ]
  },
  {
   "cell_type": "code",
   "execution_count": 28,
   "metadata": {},
   "outputs": [],
   "source": [
    "np.save(\"./data/marks.npy\", marks)"
   ]
  },
  {
   "cell_type": "code",
   "execution_count": 29,
   "metadata": {},
   "outputs": [
    {
     "data": {
      "text/plain": [
       "array([[ 89,   4,  63,  74,  16,  88,  65,  84,  23,  11],\n",
       "       [  8, 100,  71,  13,  44,  19,   2,  20,  58,  32],\n",
       "       [ 30,  60,  10,  65,  71,  56,  30,  62,  33,   9],\n",
       "       [ 27,  22,  41,  72,  10,  28,  77,  72,  32,  13],\n",
       "       [ 90,   2,   4,  94,  76,  57,  29,  97,  44,  29],\n",
       "       [ 79,  65,  89,   0,  93,  25,  93,  67,  94,  39],\n",
       "       [ 82,  16,  52,  93,  45,  88,  69,  86,  17,  31],\n",
       "       [ 21,  18,  53,  50,  25,  21,  30,  71,  79,  91],\n",
       "       [ 73,  75,  21,  88,  81,  92,  16,  30,  83,  31],\n",
       "       [100,  19,  47,  16,  13,  16,  41,  83,  67,  43],\n",
       "       [ 97,  39,  42,  95,  30,  80,  56,  89,   0,  65],\n",
       "       [ 28,  82,  44,  88,  16,  98,  70,   1,  49,  22],\n",
       "       [ 28,  42,  70,  25,  38,  60,  81,   5,  68,  74],\n",
       "       [ 33,  20,  57,  23,  18,  88,  32,  10,  10,  21],\n",
       "       [ 40,  41,  44,  99,  36,  27,  81,  22,   2,  39]])"
      ]
     },
     "execution_count": 29,
     "metadata": {},
     "output_type": "execute_result"
    }
   ],
   "source": [
    "np.load(\"./data/marks.npy\")"
   ]
  },
  {
   "cell_type": "code",
   "execution_count": null,
   "metadata": {},
   "outputs": [],
   "source": [
    "np.savetxt(\"./data/marks.txt\", marks)"
   ]
  }
 ],
 "metadata": {
  "interpreter": {
   "hash": "049a179bd499b68fd819d3f1ea0ccd476ac5fa3437f485bc1dfa69804645b4e6"
  },
  "kernelspec": {
   "display_name": "Python 3.10.1 64-bit ('3.10.1')",
   "language": "python",
   "name": "python3"
  },
  "language_info": {
   "codemirror_mode": {
    "name": "ipython",
    "version": 3
   },
   "file_extension": ".py",
   "mimetype": "text/x-python",
   "name": "python",
   "nbconvert_exporter": "python",
   "pygments_lexer": "ipython3",
   "version": "3.10.1"
  },
  "orig_nbformat": 4
 },
 "nbformat": 4,
 "nbformat_minor": 2
}
