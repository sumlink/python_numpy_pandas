{
 "cells": [
  {
   "cell_type": "markdown",
   "metadata": {},
   "source": [
    "# 1"
   ]
  },
  {
   "cell_type": "markdown",
   "metadata": {},
   "source": [
    "Студент N подрабатывает репетитором по математике и ведёт занятия разных типов: готовит к ЕГЭ, к олимпиадам, «подтягивает» математику у школьников младших классов.\n",
    "\n",
    "В массиве classes хранится число проведённых уроков за пять рабочих дней, в массиве prices — стоимость одного урока (считаем, что студент за день проводит занятия одного типа, одинаковые по стоимости).\n",
    "\n",
    "Определить доход студента за неделю, используя метод .dot() для нахождения скалярного произведения."
   ]
  },
  {
   "cell_type": "code",
   "execution_count": 4,
   "metadata": {},
   "outputs": [],
   "source": [
    "import numpy as np\n",
    "classes = np.array([3, 3, 2, 0, 2])\n",
    "prices = np.array([1500, 1500, 2500, 1000, 1000])"
   ]
  },
  {
   "cell_type": "markdown",
   "metadata": {},
   "source": [
    "# 2"
   ]
  },
  {
   "cell_type": "markdown",
   "metadata": {},
   "source": [
    "По результатам работы с данными по оценкам за эссе студентов, поставленным двумя разными экспертами, были созданы два булевых массива expert1 и expert2, в которых значение True означает оценку «удовлетворительно» и выше, а значение False – неудовлетворительно. Всего было оценено 15 эссе, по 5 эссе на каждую из трёх тем. Определить, используя различные логические операторы (|, &, и проч.) и вспомогательные методы/функции, сколько студентов получат зачёт, если известно, что для этого необходимо получить оценку не ниже удовлетворительной у обоих экспертов."
   ]
  },
  {
   "cell_type": "code",
   "execution_count": null,
   "metadata": {},
   "outputs": [],
   "source": [
    "expert1 = np.array([[True, False, False, True, True],\n",
    "                   [False, True, False, False, True],\n",
    "                   [True, True, True, False, False]])\n",
    "expert2 = np.array([[True, False, False, False, True],\n",
    "                   [False, False, False, False, False],\n",
    "                   [True, False, True, False, False]])"
   ]
  },
  {
   "cell_type": "markdown",
   "metadata": {},
   "source": [
    "# 3"
   ]
  },
  {
   "cell_type": "markdown",
   "metadata": {},
   "source": [
    "Сгененерируйте двмерный массив случайных чисел в диапозоне от 0 до 1000. \n",
    "- Оставьте в нем только четные элементы.\n",
    "- На место элементов больше 100 поставьте значение -1\n"
   ]
  },
  {
   "cell_type": "markdown",
   "metadata": {},
   "source": [
    "# 4"
   ]
  },
  {
   "cell_type": "markdown",
   "metadata": {},
   "source": [
    "Сгенерируйте два массива.\n",
    "- Найдите их пересечение\n",
    "- Найдите позиции, где эти элементы пересекаются\n",
    "- Записать массив с наибольшим средним значением в файл\n"
   ]
  }
 ],
 "metadata": {
  "interpreter": {
   "hash": "262af24f6390e181d1b86df4568fd74653813b7e5cf759105ca918c8cd7e2241"
  },
  "kernelspec": {
   "display_name": "Python 3.8.8 64-bit ('base': conda)",
   "name": "python3"
  },
  "language_info": {
   "codemirror_mode": {
    "name": "ipython",
    "version": 3
   },
   "file_extension": ".py",
   "mimetype": "text/x-python",
   "name": "python",
   "nbconvert_exporter": "python",
   "pygments_lexer": "ipython3",
   "version": "3.8.8"
  },
  "orig_nbformat": 4
 },
 "nbformat": 4,
 "nbformat_minor": 2
}
