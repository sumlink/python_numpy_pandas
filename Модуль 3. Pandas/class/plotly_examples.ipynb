{
 "cells": [
  {
   "cell_type": "code",
   "execution_count": 4,
   "metadata": {},
   "outputs": [],
   "source": [
    "import plotly\n",
    "from plotly.graph_objs import Scatter, Layout"
   ]
  },
  {
   "cell_type": "code",
   "execution_count": 6,
   "metadata": {},
   "outputs": [
    {
     "data": {
      "text/plain": [
       "'temp-plot.html'"
      ]
     },
     "execution_count": 6,
     "metadata": {},
     "output_type": "execute_result"
    }
   ],
   "source": [
    "plotly.offline.plot({\n",
    "    \"data\": [Scatter(x=[1,2,3,4], y = [5,7,9,11])],\n",
    "    \"layout\": Layout(title = \"Graph\")\n",
    "})"
   ]
  },
  {
   "cell_type": "code",
   "execution_count": 10,
   "metadata": {},
   "outputs": [],
   "source": [
    "import numpy as np\n",
    "import plotly.graph_objs as go"
   ]
  },
  {
   "cell_type": "code",
   "execution_count": 11,
   "metadata": {},
   "outputs": [
    {
     "data": {
      "text/plain": [
       "'temp-plot.html'"
      ]
     },
     "execution_count": 11,
     "metadata": {},
     "output_type": "execute_result"
    }
   ],
   "source": [
    "n = 1000\n",
    "random_x = np.random.randn(n)\n",
    "random_y = np.random.randn(n)\n",
    "trace = go.Scatter(\n",
    "        x=random_x, y=random_y,mode=\"markers\"\n",
    ")\n",
    "plotly.offline.plot([trace])\n"
   ]
  },
  {
   "cell_type": "code",
   "execution_count": 12,
   "metadata": {},
   "outputs": [],
   "source": [
    "from plotly import tools\n",
    "import plotly\n",
    "import plotly.graph_objs as go"
   ]
  },
  {
   "cell_type": "code",
   "execution_count": 13,
   "metadata": {},
   "outputs": [],
   "source": [
    "z=[[2, 4, 7, 12, 13, 14, 15, 16],\n",
    "       [3, 1, 6, 11, 12, 13, 16, 17],\n",
    "       [4, 2, 7, 7, 11, 14, 17, 18],\n",
    "       [5, 3, 8, 8, 13, 15, 18, 19],\n",
    "       [7, 4, 10, 9, 16, 18, 20, 19],\n",
    "       [9, 10, 5, 27, 23, 21, 21, 21],\n",
    "       [11, 14, 17, 26, 25, 24, 23, 22]]"
   ]
  },
  {
   "cell_type": "code",
   "execution_count": 18,
   "metadata": {},
   "outputs": [],
   "source": [
    "trace = go.Contour(z=z, line = dict(smoothing=0.75))\n",
    "data = [trace]"
   ]
  },
  {
   "cell_type": "code",
   "execution_count": 19,
   "metadata": {},
   "outputs": [
    {
     "data": {
      "text/plain": [
       "'temp-plot.html'"
      ]
     },
     "execution_count": 19,
     "metadata": {},
     "output_type": "execute_result"
    }
   ],
   "source": [
    "plotly.offline.plot(data)"
   ]
  }
 ],
 "metadata": {
  "kernelspec": {
   "display_name": "Python 3.10.1 64-bit ('3.10.1')",
   "language": "python",
   "name": "python3"
  },
  "language_info": {
   "codemirror_mode": {
    "name": "ipython",
    "version": 3
   },
   "file_extension": ".py",
   "mimetype": "text/x-python",
   "name": "python",
   "nbconvert_exporter": "python",
   "pygments_lexer": "ipython3",
   "version": "3.10.1"
  },
  "orig_nbformat": 4,
  "vscode": {
   "interpreter": {
    "hash": "049a179bd499b68fd819d3f1ea0ccd476ac5fa3437f485bc1dfa69804645b4e6"
   }
  }
 },
 "nbformat": 4,
 "nbformat_minor": 2
}
